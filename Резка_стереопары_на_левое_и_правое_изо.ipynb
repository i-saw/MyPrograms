{
  "nbformat": 4,
  "nbformat_minor": 0,
  "metadata": {
    "colab": {
      "provenance": [],
      "mount_file_id": "12KQOMwI9oye6qDKMulnaHmdji0jJHO-y",
      "authorship_tag": "ABX9TyOe5/gCOnMJFn6lsvvraoyD",
      "include_colab_link": true
    },
    "kernelspec": {
      "name": "python3",
      "display_name": "Python 3"
    },
    "language_info": {
      "name": "python"
    }
  },
  "cells": [
    {
      "cell_type": "markdown",
      "metadata": {
        "id": "view-in-github",
        "colab_type": "text"
      },
      "source": [
        "<a href=\"https://colab.research.google.com/github/i-saw/MyPrograms/blob/main/%D0%A0%D0%B5%D0%B7%D0%BA%D0%B0_%D1%81%D1%82%D0%B5%D1%80%D0%B5%D0%BE%D0%BF%D0%B0%D1%80%D1%8B_%D0%BD%D0%B0_%D0%BB%D0%B5%D0%B2%D0%BE%D0%B5_%D0%B8_%D0%BF%D1%80%D0%B0%D0%B2%D0%BE%D0%B5_%D0%B8%D0%B7%D0%BE.ipynb\" target=\"_parent\"><img src=\"https://colab.research.google.com/assets/colab-badge.svg\" alt=\"Open In Colab\"/></a>"
      ]
    },
    {
      "cell_type": "code",
      "source": [
        "#импортируем необходимые библиотеки и модули\n",
        "import cv2    \n",
        "import numpy as np\n",
        "import matplotlib.pyplot as plt\n",
        "from google.colab import drive \n",
        "import google.colab as colab\n",
        "drive.mount('/content/gdrive')\n",
        "from os import listdir"
      ],
      "metadata": {
        "colab": {
          "base_uri": "https://localhost:8080/"
        },
        "id": "xVHNzwbZOxt2",
        "outputId": "faae905e-3cd4-468a-8e7b-79fe5d58300b"
      },
      "execution_count": null,
      "outputs": [
        {
          "output_type": "stream",
          "name": "stdout",
          "text": [
            "Mounted at /content/gdrive\n"
          ]
        }
      ]
    },
    {
      "cell_type": "code",
      "source": [
        "LD = listdir('/content/gdrive/MyDrive/Stereo_calibration') # Заходим в папку и смотрим какие там файлы.\n",
        "LD"
      ],
      "metadata": {
        "colab": {
          "base_uri": "https://localhost:8080/"
        },
        "id": "gpdabbo4sSft",
        "outputId": "d4b72d2b-5bd4-4653-b887-f161cddb8714"
      },
      "execution_count": null,
      "outputs": [
        {
          "output_type": "execute_result",
          "data": {
            "text/plain": [
              "['1.png',\n",
              " '2.png',\n",
              " '3.png',\n",
              " '4.png',\n",
              " '5.png',\n",
              " '6.png',\n",
              " '7.png',\n",
              " '8.png',\n",
              " '9.png',\n",
              " '10.png',\n",
              " '11.png',\n",
              " '12.png',\n",
              " '13.png',\n",
              " '14.png',\n",
              " '15.png',\n",
              " '16.png',\n",
              " '17.png',\n",
              " '18.png',\n",
              " '19.png',\n",
              " '20.png',\n",
              " '21.png',\n",
              " '22.png',\n",
              " '23.png']"
            ]
          },
          "metadata": {},
          "execution_count": 2
        }
      ]
    },
    {
      "cell_type": "code",
      "execution_count": null,
      "metadata": {
        "id": "BCnhLPCkM7qP"
      },
      "outputs": [],
      "source": [
        "def centr(name: str):\n",
        "  # Читаем картинку\n",
        "  picture = cv2.imread(f'/content/gdrive/MyDrive/Stereo_calibration/{name}') \n",
        "\n",
        "  # получить размеры изображения\n",
        "  height, width, channels = picture.shape\n",
        "  half_width = width // 2\n",
        "\n",
        "  # создать новые изображения\n",
        "  left_image = np.zeros((height, half_width, channels), dtype=np.uint8)\n",
        "  right_image = np.zeros((height, half_width, channels), dtype=np.uint8)\n",
        "\n",
        "  # получить левую и правую части стереопары\n",
        "  for y in range(height):\n",
        "    for x in range(half_width):\n",
        "        left_image[y, x] = picture[y, x]\n",
        "        right_image[y, x] = picture[y, x + half_width]\n",
        "\n",
        "# сохранить новые изображения в файлы\n",
        "  cv2.imwrite(f'left-{i}.png', left_image)\n",
        "  cv2.imwrite(f'right-{i}.png', right_image)\n",
        "\n",
        "  !cp left-{i}.png /content/gdrive/MyDrive/Stereo_calibration/cuts/\n",
        "  !cp right-{i}.png /content/gdrive/MyDrive/Stereo_calibration/cuts/"
      ]
    },
    {
      "cell_type": "code",
      "source": [
        "i = 1\n",
        "for picture in LD:   #создаем цикл для автоматической работе\n",
        "  centr(picture)\n",
        "  i += 1"
      ],
      "metadata": {
        "id": "L4T8YRapxzB7"
      },
      "execution_count": null,
      "outputs": []
    }
  ]
}